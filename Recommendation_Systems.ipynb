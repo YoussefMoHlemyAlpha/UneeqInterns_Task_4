{
  "cells": [
    {
      "cell_type": "markdown",
      "metadata": {
        "id": "F0-rKEe3qhFB"
      },
      "source": [
        "# **<u>Machine Learning Internship Project at Uneeq Interns Internship- Movies Recommendation System (Task 4)</u>**"
      ]
    },
    {
      "cell_type": "markdown",
      "metadata": {
        "id": "ry0vv-PNzV82"
      },
      "source": [
        " **In this project walkthrough, we create a movie recommendation system using Jupyter, Python, and Pandas.  By the end, we'll be able to type the name of a movie into an input box, and instantly get recommendations for other movies we might like. We'll start with the MovieLens 25M dataset, which contains movie reviews and ratings.  Then, we'll build a search engine to find a specific movie title in our data.  We'll then be able to create a recommendation engine to recommend specific movies**"
      ]
    },
    {
      "cell_type": "markdown",
      "metadata": {
        "id": "okwwd6xIqNMc"
      },
      "source": [
        "# <i> import required libraries </i>"
      ]
    },
    {
      "cell_type": "code",
      "execution_count": 28,
      "metadata": {
        "id": "GilzOBcWoX72"
      },
      "outputs": [],
      "source": [
        "import pandas as pd\n",
        "import re\n",
        "import numpy as np\n",
        "from sklearn.feature_extraction.text import TfidfVectorizer\n",
        "from sklearn.metrics.pairwise import cosine_similarity\n",
        "import ipywidgets as widgets\n",
        "from IPython.display import display\n"
      ]
    },
    {
      "cell_type": "markdown",
      "metadata": {
        "id": "4-_pS7o-q5vH"
      },
      "source": [
        "## loading Movies Data"
      ]
    },
    {
      "cell_type": "code",
      "execution_count": 29,
      "metadata": {
        "colab": {
          "base_uri": "https://localhost:8080/"
        },
        "id": "oLgE4Pi6o2kI",
        "outputId": "25d0ac66-aff9-4874-ba4f-9a2327506790"
      },
      "outputs": [
        {
          "name": "stdout",
          "output_type": "stream",
          "text": [
            "<class 'pandas.core.frame.DataFrame'>\n",
            "RangeIndex: 62423 entries, 0 to 62422\n",
            "Data columns (total 3 columns):\n",
            " #   Column   Non-Null Count  Dtype \n",
            "---  ------   --------------  ----- \n",
            " 0   movieId  62423 non-null  int64 \n",
            " 1   title    62423 non-null  object\n",
            " 2   genres   62423 non-null  object\n",
            "dtypes: int64(1), object(2)\n",
            "memory usage: 1.4+ MB\n"
          ]
        }
      ],
      "source": [
        "movies = pd.read_csv(\"movies.csv\")\n",
        "movies.info()"
      ]
    },
    {
      "cell_type": "code",
      "execution_count": 30,
      "metadata": {
        "colab": {
          "base_uri": "https://localhost:8080/",
          "height": 206
        },
        "id": "AvRCE37to-YB",
        "outputId": "a1c869b8-6363-4786-850b-c326a0120a68"
      },
      "outputs": [
        {
          "data": {
            "text/html": [
              "<div>\n",
              "<style scoped>\n",
              "    .dataframe tbody tr th:only-of-type {\n",
              "        vertical-align: middle;\n",
              "    }\n",
              "\n",
              "    .dataframe tbody tr th {\n",
              "        vertical-align: top;\n",
              "    }\n",
              "\n",
              "    .dataframe thead th {\n",
              "        text-align: right;\n",
              "    }\n",
              "</style>\n",
              "<table border=\"1\" class=\"dataframe\">\n",
              "  <thead>\n",
              "    <tr style=\"text-align: right;\">\n",
              "      <th></th>\n",
              "      <th>movieId</th>\n",
              "      <th>title</th>\n",
              "      <th>genres</th>\n",
              "    </tr>\n",
              "  </thead>\n",
              "  <tbody>\n",
              "    <tr>\n",
              "      <th>0</th>\n",
              "      <td>1</td>\n",
              "      <td>Toy Story (1995)</td>\n",
              "      <td>Adventure|Animation|Children|Comedy|Fantasy</td>\n",
              "    </tr>\n",
              "    <tr>\n",
              "      <th>1</th>\n",
              "      <td>2</td>\n",
              "      <td>Jumanji (1995)</td>\n",
              "      <td>Adventure|Children|Fantasy</td>\n",
              "    </tr>\n",
              "    <tr>\n",
              "      <th>2</th>\n",
              "      <td>3</td>\n",
              "      <td>Grumpier Old Men (1995)</td>\n",
              "      <td>Comedy|Romance</td>\n",
              "    </tr>\n",
              "    <tr>\n",
              "      <th>3</th>\n",
              "      <td>4</td>\n",
              "      <td>Waiting to Exhale (1995)</td>\n",
              "      <td>Comedy|Drama|Romance</td>\n",
              "    </tr>\n",
              "    <tr>\n",
              "      <th>4</th>\n",
              "      <td>5</td>\n",
              "      <td>Father of the Bride Part II (1995)</td>\n",
              "      <td>Comedy</td>\n",
              "    </tr>\n",
              "  </tbody>\n",
              "</table>\n",
              "</div>"
            ],
            "text/plain": [
              "   movieId                               title  \\\n",
              "0        1                    Toy Story (1995)   \n",
              "1        2                      Jumanji (1995)   \n",
              "2        3             Grumpier Old Men (1995)   \n",
              "3        4            Waiting to Exhale (1995)   \n",
              "4        5  Father of the Bride Part II (1995)   \n",
              "\n",
              "                                        genres  \n",
              "0  Adventure|Animation|Children|Comedy|Fantasy  \n",
              "1                   Adventure|Children|Fantasy  \n",
              "2                               Comedy|Romance  \n",
              "3                         Comedy|Drama|Romance  \n",
              "4                                       Comedy  "
            ]
          },
          "execution_count": 30,
          "metadata": {},
          "output_type": "execute_result"
        }
      ],
      "source": [
        "movies.head()"
      ]
    },
    {
      "cell_type": "markdown",
      "metadata": {
        "id": "CGPBM_n0rtC8"
      },
      "source": [
        "# ***Preprocessing*** :-"
      ]
    },
    {
      "cell_type": "markdown",
      "metadata": {
        "id": "meNQb-GHrAJr"
      },
      "source": [
        "# Checking null values"
      ]
    },
    {
      "cell_type": "code",
      "execution_count": 31,
      "metadata": {
        "colab": {
          "base_uri": "https://localhost:8080/"
        },
        "id": "PA4708P1rDrs",
        "outputId": "d0c834e3-5a9f-4e62-94f0-96957d85fbcc"
      },
      "outputs": [
        {
          "data": {
            "text/plain": [
              "movieId    0\n",
              "title      0\n",
              "genres     0\n",
              "dtype: int64"
            ]
          },
          "execution_count": 31,
          "metadata": {},
          "output_type": "execute_result"
        }
      ],
      "source": [
        "movies.isnull().sum()"
      ]
    },
    {
      "cell_type": "markdown",
      "metadata": {
        "id": "UMIjfsBDrSVV"
      },
      "source": [
        "# Checking duplicate values"
      ]
    },
    {
      "cell_type": "code",
      "execution_count": 32,
      "metadata": {
        "colab": {
          "base_uri": "https://localhost:8080/"
        },
        "id": "-79XyESdra4S",
        "outputId": "93f92262-724e-40a2-dc7c-2384d55b54ef"
      },
      "outputs": [
        {
          "data": {
            "text/plain": [
              "0"
            ]
          },
          "execution_count": 32,
          "metadata": {},
          "output_type": "execute_result"
        }
      ],
      "source": [
        "movies.duplicated().sum()"
      ]
    },
    {
      "cell_type": "markdown",
      "metadata": {
        "id": "ptKbl5amrkL-"
      },
      "source": [
        "**Nice there is no missing and duplicate values**"
      ]
    },
    {
      "cell_type": "markdown",
      "metadata": {
        "id": "jHVcGwnBr-pD"
      },
      "source": [
        "## ***Cleaning title column***"
      ]
    },
    {
      "cell_type": "code",
      "execution_count": 33,
      "metadata": {
        "id": "JO6LSXfspS_U"
      },
      "outputs": [],
      "source": [
        "def clean_title(title):\n",
        "    title = re.sub(\"[^a-zA-Z0-9 ]\", \"\", title)\n",
        "    return title"
      ]
    },
    {
      "cell_type": "code",
      "execution_count": 34,
      "metadata": {
        "id": "KpN6sHXopWiG"
      },
      "outputs": [],
      "source": [
        "movies[\"clean_title\"] = movies[\"title\"].apply(clean_title)"
      ]
    },
    {
      "cell_type": "code",
      "execution_count": 35,
      "metadata": {
        "colab": {
          "base_uri": "https://localhost:8080/",
          "height": 206
        },
        "id": "SFu8xAMTpaZm",
        "outputId": "08afd40e-c387-4656-88ac-897c1b7beae4"
      },
      "outputs": [
        {
          "data": {
            "text/html": [
              "<div>\n",
              "<style scoped>\n",
              "    .dataframe tbody tr th:only-of-type {\n",
              "        vertical-align: middle;\n",
              "    }\n",
              "\n",
              "    .dataframe tbody tr th {\n",
              "        vertical-align: top;\n",
              "    }\n",
              "\n",
              "    .dataframe thead th {\n",
              "        text-align: right;\n",
              "    }\n",
              "</style>\n",
              "<table border=\"1\" class=\"dataframe\">\n",
              "  <thead>\n",
              "    <tr style=\"text-align: right;\">\n",
              "      <th></th>\n",
              "      <th>movieId</th>\n",
              "      <th>title</th>\n",
              "      <th>genres</th>\n",
              "      <th>clean_title</th>\n",
              "    </tr>\n",
              "  </thead>\n",
              "  <tbody>\n",
              "    <tr>\n",
              "      <th>0</th>\n",
              "      <td>1</td>\n",
              "      <td>Toy Story (1995)</td>\n",
              "      <td>Adventure|Animation|Children|Comedy|Fantasy</td>\n",
              "      <td>Toy Story 1995</td>\n",
              "    </tr>\n",
              "    <tr>\n",
              "      <th>1</th>\n",
              "      <td>2</td>\n",
              "      <td>Jumanji (1995)</td>\n",
              "      <td>Adventure|Children|Fantasy</td>\n",
              "      <td>Jumanji 1995</td>\n",
              "    </tr>\n",
              "    <tr>\n",
              "      <th>2</th>\n",
              "      <td>3</td>\n",
              "      <td>Grumpier Old Men (1995)</td>\n",
              "      <td>Comedy|Romance</td>\n",
              "      <td>Grumpier Old Men 1995</td>\n",
              "    </tr>\n",
              "    <tr>\n",
              "      <th>3</th>\n",
              "      <td>4</td>\n",
              "      <td>Waiting to Exhale (1995)</td>\n",
              "      <td>Comedy|Drama|Romance</td>\n",
              "      <td>Waiting to Exhale 1995</td>\n",
              "    </tr>\n",
              "    <tr>\n",
              "      <th>4</th>\n",
              "      <td>5</td>\n",
              "      <td>Father of the Bride Part II (1995)</td>\n",
              "      <td>Comedy</td>\n",
              "      <td>Father of the Bride Part II 1995</td>\n",
              "    </tr>\n",
              "  </tbody>\n",
              "</table>\n",
              "</div>"
            ],
            "text/plain": [
              "   movieId                               title  \\\n",
              "0        1                    Toy Story (1995)   \n",
              "1        2                      Jumanji (1995)   \n",
              "2        3             Grumpier Old Men (1995)   \n",
              "3        4            Waiting to Exhale (1995)   \n",
              "4        5  Father of the Bride Part II (1995)   \n",
              "\n",
              "                                        genres  \\\n",
              "0  Adventure|Animation|Children|Comedy|Fantasy   \n",
              "1                   Adventure|Children|Fantasy   \n",
              "2                               Comedy|Romance   \n",
              "3                         Comedy|Drama|Romance   \n",
              "4                                       Comedy   \n",
              "\n",
              "                        clean_title  \n",
              "0                    Toy Story 1995  \n",
              "1                      Jumanji 1995  \n",
              "2             Grumpier Old Men 1995  \n",
              "3            Waiting to Exhale 1995  \n",
              "4  Father of the Bride Part II 1995  "
            ]
          },
          "execution_count": 35,
          "metadata": {},
          "output_type": "execute_result"
        }
      ],
      "source": [
        "movies.head()"
      ]
    },
    {
      "cell_type": "markdown",
      "metadata": {
        "id": "cpsTxZDmsM7x"
      },
      "source": [
        "## *Creating a tfidf matrix*"
      ]
    },
    {
      "cell_type": "code",
      "execution_count": 36,
      "metadata": {
        "id": "ZDgo7FiqpgbC"
      },
      "outputs": [],
      "source": [
        "vectorizer = TfidfVectorizer(ngram_range=(1,2))\n",
        "\n",
        "tfidf = vectorizer.fit_transform(movies[\"clean_title\"])"
      ]
    },
    {
      "cell_type": "markdown",
      "metadata": {
        "id": "uWBGpFl1sV-_"
      },
      "source": [
        "# ***Creating a search function***"
      ]
    },
    {
      "cell_type": "code",
      "execution_count": 37,
      "metadata": {
        "id": "XWwnmzDapj-e"
      },
      "outputs": [],
      "source": [
        "\n",
        "def search(title):\n",
        "    title = clean_title(title)\n",
        "    query_vec = vectorizer.transform([title])\n",
        "    similarity = cosine_similarity(query_vec, tfidf).flatten()\n",
        "    indices = np.argpartition(similarity, -5)[-5:]\n",
        "    results = movies.iloc[indices].iloc[::-1]\n",
        "\n",
        "    return results"
      ]
    },
    {
      "cell_type": "markdown",
      "metadata": {
        "id": "NNiBC9bwsmJ5"
      },
      "source": [
        "# ***Building an interactive search box with Jupyter***"
      ]
    },
    {
      "cell_type": "code",
      "execution_count": 38,
      "metadata": {
        "colab": {
          "base_uri": "https://localhost:8080/",
          "height": 238,
          "referenced_widgets": [
            "f8f9ec0bc5ce49d0a65815ba74ca5b7f",
            "0b60e654bfda4dc9a3c22e80c895a7fa",
            "d1a9f0ef9d6745418b6239af3bd0ca13",
            "fd42d8b74cef4716a657d1aa8b8c58b6",
            "5ce4137056c84adb8782c8a4be9c65bf"
          ]
        },
        "id": "gT_bWPNfponx",
        "outputId": "68e3f902-d39f-4044-c380-095ab111a42c"
      },
      "outputs": [
        {
          "data": {
            "application/vnd.jupyter.widget-view+json": {
              "model_id": "17efde60a6c0441eb4ffb1fa72f16789",
              "version_major": 2,
              "version_minor": 0
            },
            "text/plain": [
              "Text(value='Toy Story', description='Movie Title:')"
            ]
          },
          "metadata": {},
          "output_type": "display_data"
        },
        {
          "data": {
            "application/vnd.jupyter.widget-view+json": {
              "model_id": "aef5ecaa603a414bb4b67697806e5c40",
              "version_major": 2,
              "version_minor": 0
            },
            "text/plain": [
              "Output()"
            ]
          },
          "metadata": {},
          "output_type": "display_data"
        }
      ],
      "source": [
        "movie_input = widgets.Text(\n",
        "    value='Toy Story',\n",
        "    description='Movie Title:',\n",
        "    disabled=False\n",
        ")\n",
        "movie_list = widgets.Output()\n",
        "\n",
        "def on_type(data):\n",
        "    with movie_list:\n",
        "        movie_list.clear_output()\n",
        "        title = data[\"new\"]\n",
        "        if len(title) > 5:\n",
        "            display(search(title))\n",
        "\n",
        "movie_input.observe(on_type, names='value')\n",
        "\n",
        "\n",
        "display(movie_input, movie_list)"
      ]
    },
    {
      "cell_type": "code",
      "execution_count": null,
      "metadata": {},
      "outputs": [],
      "source": [
        "movie_id = 89745\n",
        "\n",
        "#def find_similar_movies(movie_id):\n",
        "movie = movies[movies[\"movieId\"] == movie_id]\n"
      ]
    },
    {
      "cell_type": "markdown",
      "metadata": {},
      "source": [
        "## loading Ratings Data"
      ]
    },
    {
      "cell_type": "code",
      "execution_count": 39,
      "metadata": {
        "colab": {
          "base_uri": "https://localhost:8080/"
        },
        "id": "NWAoGTldssjN",
        "outputId": "a2e2b1ac-8a42-496f-8407-6505172ca0c4"
      },
      "outputs": [
        {
          "name": "stdout",
          "output_type": "stream",
          "text": [
            "<class 'pandas.core.frame.DataFrame'>\n",
            "RangeIndex: 25000095 entries, 0 to 25000094\n",
            "Data columns (total 4 columns):\n",
            " #   Column     Dtype  \n",
            "---  ------     -----  \n",
            " 0   userId     int64  \n",
            " 1   movieId    int64  \n",
            " 2   rating     float64\n",
            " 3   timestamp  int64  \n",
            "dtypes: float64(1), int64(3)\n",
            "memory usage: 762.9 MB\n"
          ]
        }
      ],
      "source": [
        "ratings = pd.read_csv(\"ratings.csv\")\n",
        "ratings.info()"
      ]
    },
    {
      "cell_type": "code",
      "execution_count": 40,
      "metadata": {
        "colab": {
          "base_uri": "https://localhost:8080/",
          "height": 206
        },
        "id": "AQIFe4Owt17e",
        "outputId": "81fb0a89-6c35-41f4-af91-b35c1c86dbc9"
      },
      "outputs": [
        {
          "data": {
            "text/html": [
              "<div>\n",
              "<style scoped>\n",
              "    .dataframe tbody tr th:only-of-type {\n",
              "        vertical-align: middle;\n",
              "    }\n",
              "\n",
              "    .dataframe tbody tr th {\n",
              "        vertical-align: top;\n",
              "    }\n",
              "\n",
              "    .dataframe thead th {\n",
              "        text-align: right;\n",
              "    }\n",
              "</style>\n",
              "<table border=\"1\" class=\"dataframe\">\n",
              "  <thead>\n",
              "    <tr style=\"text-align: right;\">\n",
              "      <th></th>\n",
              "      <th>userId</th>\n",
              "      <th>movieId</th>\n",
              "      <th>rating</th>\n",
              "      <th>timestamp</th>\n",
              "    </tr>\n",
              "  </thead>\n",
              "  <tbody>\n",
              "    <tr>\n",
              "      <th>0</th>\n",
              "      <td>1</td>\n",
              "      <td>296</td>\n",
              "      <td>5.0</td>\n",
              "      <td>1147880044</td>\n",
              "    </tr>\n",
              "    <tr>\n",
              "      <th>1</th>\n",
              "      <td>1</td>\n",
              "      <td>306</td>\n",
              "      <td>3.5</td>\n",
              "      <td>1147868817</td>\n",
              "    </tr>\n",
              "    <tr>\n",
              "      <th>2</th>\n",
              "      <td>1</td>\n",
              "      <td>307</td>\n",
              "      <td>5.0</td>\n",
              "      <td>1147868828</td>\n",
              "    </tr>\n",
              "    <tr>\n",
              "      <th>3</th>\n",
              "      <td>1</td>\n",
              "      <td>665</td>\n",
              "      <td>5.0</td>\n",
              "      <td>1147878820</td>\n",
              "    </tr>\n",
              "    <tr>\n",
              "      <th>4</th>\n",
              "      <td>1</td>\n",
              "      <td>899</td>\n",
              "      <td>3.5</td>\n",
              "      <td>1147868510</td>\n",
              "    </tr>\n",
              "  </tbody>\n",
              "</table>\n",
              "</div>"
            ],
            "text/plain": [
              "   userId  movieId  rating   timestamp\n",
              "0       1      296     5.0  1147880044\n",
              "1       1      306     3.5  1147868817\n",
              "2       1      307     5.0  1147868828\n",
              "3       1      665     5.0  1147878820\n",
              "4       1      899     3.5  1147868510"
            ]
          },
          "execution_count": 40,
          "metadata": {},
          "output_type": "execute_result"
        }
      ],
      "source": [
        "ratings.head()"
      ]
    },
    {
      "cell_type": "markdown",
      "metadata": {},
      "source": [
        "## Checking Null and duplicate values "
      ]
    },
    {
      "cell_type": "code",
      "execution_count": 52,
      "metadata": {},
      "outputs": [
        {
          "data": {
            "text/plain": [
              "userId       0\n",
              "movieId      0\n",
              "rating       0\n",
              "timestamp    0\n",
              "dtype: int64"
            ]
          },
          "execution_count": 52,
          "metadata": {},
          "output_type": "execute_result"
        }
      ],
      "source": [
        "ratings.isnull().sum()"
      ]
    },
    {
      "cell_type": "code",
      "execution_count": 41,
      "metadata": {
        "colab": {
          "base_uri": "https://localhost:8080/"
        },
        "id": "JyydiEMKtp3n",
        "outputId": "11e6e657-16c4-490f-9e4d-54353f7a2942"
      },
      "outputs": [
        {
          "data": {
            "text/plain": [
              "0"
            ]
          },
          "execution_count": 41,
          "metadata": {},
          "output_type": "execute_result"
        }
      ],
      "source": [
        "ratings.duplicated().sum()"
      ]
    },
    {
      "cell_type": "markdown",
      "metadata": {
        "id": "rML4Joy7wfFG"
      },
      "source": [
        "## Similar users that like the same movie"
      ]
    },
    {
      "cell_type": "code",
      "execution_count": 42,
      "metadata": {
        "id": "-830KGjMuVy3"
      },
      "outputs": [],
      "source": [
        "similar_users = ratings[(ratings[\"movieId\"] == movie_id) & (ratings[\"rating\"] > 4)][\"userId\"].unique()\n",
        "\n",
        "similar_user_recs = ratings[(ratings[\"userId\"].isin(similar_users)) & (ratings[\"rating\"] > 4)][\"movieId\"]\n",
        "\n"
      ]
    },
    {
      "cell_type": "code",
      "execution_count": 43,
      "metadata": {
        "id": "XoHACjDLuunT"
      },
      "outputs": [],
      "source": [
        "similar_user_recs = similar_user_recs.value_counts() / len(similar_users)\n",
        "\n",
        "similar_user_recs = similar_user_recs[similar_user_recs > .10]"
      ]
    },
    {
      "cell_type": "markdown",
      "metadata": {
        "id": "gxwA4wAhxc_x"
      },
      "source": [
        "##  Finding how much all users like movies"
      ]
    },
    {
      "cell_type": "code",
      "execution_count": 44,
      "metadata": {
        "id": "8kN5blK7uxWH"
      },
      "outputs": [],
      "source": [
        "all_users = ratings[(ratings[\"movieId\"].isin(similar_user_recs.index)) & (ratings[\"rating\"] > 4)]\n",
        "\n",
        "all_user_recs = all_users[\"movieId\"].value_counts() / len(all_users[\"userId\"].unique())"
      ]
    },
    {
      "cell_type": "code",
      "execution_count": 45,
      "metadata": {
        "id": "HZoRWChAu7OJ"
      },
      "outputs": [],
      "source": [
        "rec_percentages = pd.concat([similar_user_recs, all_user_recs], axis=1)\n",
        "rec_percentages.columns = [\"similar\", \"all\"]"
      ]
    },
    {
      "cell_type": "code",
      "execution_count": 46,
      "metadata": {
        "colab": {
          "base_uri": "https://localhost:8080/",
          "height": 423
        },
        "id": "5b-MqctCu5Ki",
        "outputId": "cb58939f-e0b1-4fd0-d717-19f1aacaf327"
      },
      "outputs": [
        {
          "data": {
            "text/html": [
              "<div>\n",
              "<style scoped>\n",
              "    .dataframe tbody tr th:only-of-type {\n",
              "        vertical-align: middle;\n",
              "    }\n",
              "\n",
              "    .dataframe tbody tr th {\n",
              "        vertical-align: top;\n",
              "    }\n",
              "\n",
              "    .dataframe thead th {\n",
              "        text-align: right;\n",
              "    }\n",
              "</style>\n",
              "<table border=\"1\" class=\"dataframe\">\n",
              "  <thead>\n",
              "    <tr style=\"text-align: right;\">\n",
              "      <th></th>\n",
              "      <th>similar</th>\n",
              "      <th>all</th>\n",
              "    </tr>\n",
              "    <tr>\n",
              "      <th>movieId</th>\n",
              "      <th></th>\n",
              "      <th></th>\n",
              "    </tr>\n",
              "  </thead>\n",
              "  <tbody>\n",
              "    <tr>\n",
              "      <th>89745</th>\n",
              "      <td>1.000000</td>\n",
              "      <td>0.040459</td>\n",
              "    </tr>\n",
              "    <tr>\n",
              "      <th>58559</th>\n",
              "      <td>0.573393</td>\n",
              "      <td>0.148256</td>\n",
              "    </tr>\n",
              "    <tr>\n",
              "      <th>59315</th>\n",
              "      <td>0.530649</td>\n",
              "      <td>0.054931</td>\n",
              "    </tr>\n",
              "    <tr>\n",
              "      <th>79132</th>\n",
              "      <td>0.519715</td>\n",
              "      <td>0.132987</td>\n",
              "    </tr>\n",
              "    <tr>\n",
              "      <th>2571</th>\n",
              "      <td>0.496687</td>\n",
              "      <td>0.247010</td>\n",
              "    </tr>\n",
              "    <tr>\n",
              "      <th>...</th>\n",
              "      <td>...</td>\n",
              "      <td>...</td>\n",
              "    </tr>\n",
              "    <tr>\n",
              "      <th>47610</th>\n",
              "      <td>0.103545</td>\n",
              "      <td>0.022770</td>\n",
              "    </tr>\n",
              "    <tr>\n",
              "      <th>780</th>\n",
              "      <td>0.103380</td>\n",
              "      <td>0.054723</td>\n",
              "    </tr>\n",
              "    <tr>\n",
              "      <th>88744</th>\n",
              "      <td>0.103048</td>\n",
              "      <td>0.010383</td>\n",
              "    </tr>\n",
              "    <tr>\n",
              "      <th>1258</th>\n",
              "      <td>0.101226</td>\n",
              "      <td>0.083887</td>\n",
              "    </tr>\n",
              "    <tr>\n",
              "      <th>1193</th>\n",
              "      <td>0.100895</td>\n",
              "      <td>0.120244</td>\n",
              "    </tr>\n",
              "  </tbody>\n",
              "</table>\n",
              "<p>193 rows × 2 columns</p>\n",
              "</div>"
            ],
            "text/plain": [
              "          similar       all\n",
              "movieId                    \n",
              "89745    1.000000  0.040459\n",
              "58559    0.573393  0.148256\n",
              "59315    0.530649  0.054931\n",
              "79132    0.519715  0.132987\n",
              "2571     0.496687  0.247010\n",
              "...           ...       ...\n",
              "47610    0.103545  0.022770\n",
              "780      0.103380  0.054723\n",
              "88744    0.103048  0.010383\n",
              "1258     0.101226  0.083887\n",
              "1193     0.100895  0.120244\n",
              "\n",
              "[193 rows x 2 columns]"
            ]
          },
          "execution_count": 46,
          "metadata": {},
          "output_type": "execute_result"
        }
      ],
      "source": [
        "rec_percentages"
      ]
    },
    {
      "cell_type": "markdown",
      "metadata": {
        "id": "ABN3_E_lx7Ea"
      },
      "source": [
        "#  Creating a recommendation score"
      ]
    },
    {
      "cell_type": "code",
      "execution_count": 47,
      "metadata": {
        "id": "Z_xYULSju_jU"
      },
      "outputs": [],
      "source": [
        "rec_percentages[\"score\"] = rec_percentages[\"similar\"] / rec_percentages[\"all\"]"
      ]
    },
    {
      "cell_type": "code",
      "execution_count": 48,
      "metadata": {
        "id": "SnluSWCMvDzf"
      },
      "outputs": [],
      "source": [
        "rec_percentages = rec_percentages.sort_values(\"score\", ascending=False)"
      ]
    },
    {
      "cell_type": "code",
      "execution_count": 49,
      "metadata": {
        "colab": {
          "base_uri": "https://localhost:8080/",
          "height": 363
        },
        "id": "3S80AZiIvGuT",
        "outputId": "0a6b665b-321e-4cc0-846f-c40a07ee202d"
      },
      "outputs": [
        {
          "data": {
            "text/html": [
              "<div>\n",
              "<style scoped>\n",
              "    .dataframe tbody tr th:only-of-type {\n",
              "        vertical-align: middle;\n",
              "    }\n",
              "\n",
              "    .dataframe tbody tr th {\n",
              "        vertical-align: top;\n",
              "    }\n",
              "\n",
              "    .dataframe thead th {\n",
              "        text-align: right;\n",
              "    }\n",
              "</style>\n",
              "<table border=\"1\" class=\"dataframe\">\n",
              "  <thead>\n",
              "    <tr style=\"text-align: right;\">\n",
              "      <th></th>\n",
              "      <th>similar</th>\n",
              "      <th>all</th>\n",
              "      <th>score</th>\n",
              "      <th>movieId</th>\n",
              "      <th>title</th>\n",
              "      <th>genres</th>\n",
              "      <th>clean_title</th>\n",
              "    </tr>\n",
              "  </thead>\n",
              "  <tbody>\n",
              "    <tr>\n",
              "      <th>17067</th>\n",
              "      <td>1.000000</td>\n",
              "      <td>0.040459</td>\n",
              "      <td>24.716368</td>\n",
              "      <td>89745</td>\n",
              "      <td>Avengers, The (2012)</td>\n",
              "      <td>Action|Adventure|Sci-Fi|IMAX</td>\n",
              "      <td>Avengers The 2012</td>\n",
              "    </tr>\n",
              "    <tr>\n",
              "      <th>20513</th>\n",
              "      <td>0.103711</td>\n",
              "      <td>0.005289</td>\n",
              "      <td>19.610199</td>\n",
              "      <td>106072</td>\n",
              "      <td>Thor: The Dark World (2013)</td>\n",
              "      <td>Action|Adventure|Fantasy|IMAX</td>\n",
              "      <td>Thor The Dark World 2013</td>\n",
              "    </tr>\n",
              "    <tr>\n",
              "      <th>25058</th>\n",
              "      <td>0.241054</td>\n",
              "      <td>0.012367</td>\n",
              "      <td>19.491770</td>\n",
              "      <td>122892</td>\n",
              "      <td>Avengers: Age of Ultron (2015)</td>\n",
              "      <td>Action|Adventure|Sci-Fi</td>\n",
              "      <td>Avengers Age of Ultron 2015</td>\n",
              "    </tr>\n",
              "    <tr>\n",
              "      <th>19678</th>\n",
              "      <td>0.216534</td>\n",
              "      <td>0.012119</td>\n",
              "      <td>17.867419</td>\n",
              "      <td>102125</td>\n",
              "      <td>Iron Man 3 (2013)</td>\n",
              "      <td>Action|Sci-Fi|Thriller|IMAX</td>\n",
              "      <td>Iron Man 3 2013</td>\n",
              "    </tr>\n",
              "    <tr>\n",
              "      <th>16725</th>\n",
              "      <td>0.215043</td>\n",
              "      <td>0.012052</td>\n",
              "      <td>17.843074</td>\n",
              "      <td>88140</td>\n",
              "      <td>Captain America: The First Avenger (2011)</td>\n",
              "      <td>Action|Adventure|Sci-Fi|Thriller|War</td>\n",
              "      <td>Captain America The First Avenger 2011</td>\n",
              "    </tr>\n",
              "    <tr>\n",
              "      <th>16312</th>\n",
              "      <td>0.175447</td>\n",
              "      <td>0.010142</td>\n",
              "      <td>17.299824</td>\n",
              "      <td>86332</td>\n",
              "      <td>Thor (2011)</td>\n",
              "      <td>Action|Adventure|Drama|Fantasy|IMAX</td>\n",
              "      <td>Thor 2011</td>\n",
              "    </tr>\n",
              "    <tr>\n",
              "      <th>21348</th>\n",
              "      <td>0.287608</td>\n",
              "      <td>0.016737</td>\n",
              "      <td>17.183667</td>\n",
              "      <td>110102</td>\n",
              "      <td>Captain America: The Winter Soldier (2014)</td>\n",
              "      <td>Action|Adventure|Sci-Fi|IMAX</td>\n",
              "      <td>Captain America The Winter Soldier 2014</td>\n",
              "    </tr>\n",
              "    <tr>\n",
              "      <th>25071</th>\n",
              "      <td>0.214049</td>\n",
              "      <td>0.012856</td>\n",
              "      <td>16.649399</td>\n",
              "      <td>122920</td>\n",
              "      <td>Captain America: Civil War (2016)</td>\n",
              "      <td>Action|Sci-Fi|Thriller</td>\n",
              "      <td>Captain America Civil War 2016</td>\n",
              "    </tr>\n",
              "    <tr>\n",
              "      <th>25061</th>\n",
              "      <td>0.136017</td>\n",
              "      <td>0.008573</td>\n",
              "      <td>15.865628</td>\n",
              "      <td>122900</td>\n",
              "      <td>Ant-Man (2015)</td>\n",
              "      <td>Action|Adventure|Sci-Fi</td>\n",
              "      <td>AntMan 2015</td>\n",
              "    </tr>\n",
              "    <tr>\n",
              "      <th>14628</th>\n",
              "      <td>0.242876</td>\n",
              "      <td>0.015517</td>\n",
              "      <td>15.651921</td>\n",
              "      <td>77561</td>\n",
              "      <td>Iron Man 2 (2010)</td>\n",
              "      <td>Action|Adventure|Sci-Fi|Thriller|IMAX</td>\n",
              "      <td>Iron Man 2 2010</td>\n",
              "    </tr>\n",
              "  </tbody>\n",
              "</table>\n",
              "</div>"
            ],
            "text/plain": [
              "        similar       all      score  movieId  \\\n",
              "17067  1.000000  0.040459  24.716368    89745   \n",
              "20513  0.103711  0.005289  19.610199   106072   \n",
              "25058  0.241054  0.012367  19.491770   122892   \n",
              "19678  0.216534  0.012119  17.867419   102125   \n",
              "16725  0.215043  0.012052  17.843074    88140   \n",
              "16312  0.175447  0.010142  17.299824    86332   \n",
              "21348  0.287608  0.016737  17.183667   110102   \n",
              "25071  0.214049  0.012856  16.649399   122920   \n",
              "25061  0.136017  0.008573  15.865628   122900   \n",
              "14628  0.242876  0.015517  15.651921    77561   \n",
              "\n",
              "                                            title  \\\n",
              "17067                        Avengers, The (2012)   \n",
              "20513                 Thor: The Dark World (2013)   \n",
              "25058              Avengers: Age of Ultron (2015)   \n",
              "19678                           Iron Man 3 (2013)   \n",
              "16725   Captain America: The First Avenger (2011)   \n",
              "16312                                 Thor (2011)   \n",
              "21348  Captain America: The Winter Soldier (2014)   \n",
              "25071           Captain America: Civil War (2016)   \n",
              "25061                              Ant-Man (2015)   \n",
              "14628                           Iron Man 2 (2010)   \n",
              "\n",
              "                                      genres  \\\n",
              "17067           Action|Adventure|Sci-Fi|IMAX   \n",
              "20513          Action|Adventure|Fantasy|IMAX   \n",
              "25058                Action|Adventure|Sci-Fi   \n",
              "19678            Action|Sci-Fi|Thriller|IMAX   \n",
              "16725   Action|Adventure|Sci-Fi|Thriller|War   \n",
              "16312    Action|Adventure|Drama|Fantasy|IMAX   \n",
              "21348           Action|Adventure|Sci-Fi|IMAX   \n",
              "25071                 Action|Sci-Fi|Thriller   \n",
              "25061                Action|Adventure|Sci-Fi   \n",
              "14628  Action|Adventure|Sci-Fi|Thriller|IMAX   \n",
              "\n",
              "                                   clean_title  \n",
              "17067                        Avengers The 2012  \n",
              "20513                 Thor The Dark World 2013  \n",
              "25058              Avengers Age of Ultron 2015  \n",
              "19678                          Iron Man 3 2013  \n",
              "16725   Captain America The First Avenger 2011  \n",
              "16312                                Thor 2011  \n",
              "21348  Captain America The Winter Soldier 2014  \n",
              "25071           Captain America Civil War 2016  \n",
              "25061                              AntMan 2015  \n",
              "14628                          Iron Man 2 2010  "
            ]
          },
          "execution_count": 49,
          "metadata": {},
          "output_type": "execute_result"
        }
      ],
      "source": [
        "rec_percentages.head(10).merge(movies, left_index=True, right_on=\"movieId\")"
      ]
    },
    {
      "cell_type": "markdown",
      "metadata": {
        "id": "T0dxrAByyXK9"
      },
      "source": [
        "# ** Building a recommendation function**"
      ]
    },
    {
      "cell_type": "code",
      "execution_count": 50,
      "metadata": {
        "id": "p6mGE_8cvJkP"
      },
      "outputs": [],
      "source": [
        "def find_similar_movies(movie_id):\n",
        "    similar_users = ratings[(ratings[\"movieId\"] == movie_id) & (ratings[\"rating\"] > 4)][\"userId\"].unique()\n",
        "    similar_user_recs = ratings[(ratings[\"userId\"].isin(similar_users)) & (ratings[\"rating\"] > 4)][\"movieId\"]\n",
        "    similar_user_recs = similar_user_recs.value_counts() / len(similar_users)\n",
        "\n",
        "    similar_user_recs = similar_user_recs[similar_user_recs > .10]\n",
        "    all_users = ratings[(ratings[\"movieId\"].isin(similar_user_recs.index)) & (ratings[\"rating\"] > 4)]\n",
        "    all_user_recs = all_users[\"movieId\"].value_counts() / len(all_users[\"userId\"].unique())\n",
        "    rec_percentages = pd.concat([similar_user_recs, all_user_recs], axis=1)\n",
        "    rec_percentages.columns = [\"similar\", \"all\"]\n",
        "\n",
        "    rec_percentages[\"score\"] = rec_percentages[\"similar\"] / rec_percentages[\"all\"]\n",
        "    rec_percentages = rec_percentages.sort_values(\"score\", ascending=False)\n",
        "    return rec_percentages.head(10).merge(movies, left_index=True, right_on=\"movieId\")[[\"score\", \"title\", \"genres\"]]"
      ]
    },
    {
      "cell_type": "markdown",
      "metadata": {
        "id": "w1kq8_2pykDX"
      },
      "source": [
        "# **Creating an interactive recommendation widget**"
      ]
    },
    {
      "cell_type": "code",
      "execution_count": 51,
      "metadata": {
        "colab": {
          "base_uri": "https://localhost:8080/",
          "height": 395,
          "referenced_widgets": [
            "da75e77abcc84d758ce7c6ff05ca2269",
            "0c3cf8e588d1479d897d03bcf61e49f8",
            "7ed875610d734931ba378ee85d93f216",
            "f50774a6699b4136bc00de123f737fee",
            "cd67398579d94a0fab246b1ffaa3101e"
          ]
        },
        "id": "DpCPspg-vNX5",
        "outputId": "b5add820-fceb-44a2-86de-91b57441c92f"
      },
      "outputs": [
        {
          "data": {
            "application/vnd.jupyter.widget-view+json": {
              "model_id": "f832abee60c34e039f9cdbdbc1305a46",
              "version_major": 2,
              "version_minor": 0
            },
            "text/plain": [
              "Text(value='Toy Story', description='Movie Title:')"
            ]
          },
          "metadata": {},
          "output_type": "display_data"
        },
        {
          "data": {
            "application/vnd.jupyter.widget-view+json": {
              "model_id": "739c62e742f24e5787d7c3af9458e997",
              "version_major": 2,
              "version_minor": 0
            },
            "text/plain": [
              "Output()"
            ]
          },
          "metadata": {},
          "output_type": "display_data"
        }
      ],
      "source": [
        "movie_name_input = widgets.Text(\n",
        "    value='Toy Story',\n",
        "    description='Movie Title:',\n",
        "    disabled=False\n",
        ")\n",
        "recommendation_list = widgets.Output()\n",
        "\n",
        "def on_type(data):\n",
        "    with recommendation_list:\n",
        "        recommendation_list.clear_output()\n",
        "        title = data[\"new\"]\n",
        "        if len(title) > 5:\n",
        "            results = search(title)\n",
        "            movie_id = results.iloc[0][\"movieId\"]\n",
        "            display(find_similar_movies(movie_id))\n",
        "\n",
        "movie_name_input.observe(on_type, names='value')\n",
        "\n",
        "display(movie_name_input, recommendation_list)"
      ]
    }
  ],
  "metadata": {
    "colab": {
      "provenance": []
    },
    "kernelspec": {
      "display_name": "Python 3",
      "name": "python3"
    },
    "language_info": {
      "codemirror_mode": {
        "name": "ipython",
        "version": 3
      },
      "file_extension": ".py",
      "mimetype": "text/x-python",
      "name": "python",
      "nbconvert_exporter": "python",
      "pygments_lexer": "ipython3",
      "version": "3.10.11"
    },
    "widgets": {
      "application/vnd.jupyter.widget-state+json": {
        "0b60e654bfda4dc9a3c22e80c895a7fa": {
          "model_module": "@jupyter-widgets/base",
          "model_module_version": "1.2.0",
          "model_name": "LayoutModel",
          "state": {
            "_model_module": "@jupyter-widgets/base",
            "_model_module_version": "1.2.0",
            "_model_name": "LayoutModel",
            "_view_count": null,
            "_view_module": "@jupyter-widgets/base",
            "_view_module_version": "1.2.0",
            "_view_name": "LayoutView",
            "align_content": null,
            "align_items": null,
            "align_self": null,
            "border": null,
            "bottom": null,
            "display": null,
            "flex": null,
            "flex_flow": null,
            "grid_area": null,
            "grid_auto_columns": null,
            "grid_auto_flow": null,
            "grid_auto_rows": null,
            "grid_column": null,
            "grid_gap": null,
            "grid_row": null,
            "grid_template_areas": null,
            "grid_template_columns": null,
            "grid_template_rows": null,
            "height": null,
            "justify_content": null,
            "justify_items": null,
            "left": null,
            "margin": null,
            "max_height": null,
            "max_width": null,
            "min_height": null,
            "min_width": null,
            "object_fit": null,
            "object_position": null,
            "order": null,
            "overflow": null,
            "overflow_x": null,
            "overflow_y": null,
            "padding": null,
            "right": null,
            "top": null,
            "visibility": null,
            "width": null
          }
        },
        "0c3cf8e588d1479d897d03bcf61e49f8": {
          "model_module": "@jupyter-widgets/base",
          "model_module_version": "1.2.0",
          "model_name": "LayoutModel",
          "state": {
            "_model_module": "@jupyter-widgets/base",
            "_model_module_version": "1.2.0",
            "_model_name": "LayoutModel",
            "_view_count": null,
            "_view_module": "@jupyter-widgets/base",
            "_view_module_version": "1.2.0",
            "_view_name": "LayoutView",
            "align_content": null,
            "align_items": null,
            "align_self": null,
            "border": null,
            "bottom": null,
            "display": null,
            "flex": null,
            "flex_flow": null,
            "grid_area": null,
            "grid_auto_columns": null,
            "grid_auto_flow": null,
            "grid_auto_rows": null,
            "grid_column": null,
            "grid_gap": null,
            "grid_row": null,
            "grid_template_areas": null,
            "grid_template_columns": null,
            "grid_template_rows": null,
            "height": null,
            "justify_content": null,
            "justify_items": null,
            "left": null,
            "margin": null,
            "max_height": null,
            "max_width": null,
            "min_height": null,
            "min_width": null,
            "object_fit": null,
            "object_position": null,
            "order": null,
            "overflow": null,
            "overflow_x": null,
            "overflow_y": null,
            "padding": null,
            "right": null,
            "top": null,
            "visibility": null,
            "width": null
          }
        },
        "5ce4137056c84adb8782c8a4be9c65bf": {
          "model_module": "@jupyter-widgets/base",
          "model_module_version": "1.2.0",
          "model_name": "LayoutModel",
          "state": {
            "_model_module": "@jupyter-widgets/base",
            "_model_module_version": "1.2.0",
            "_model_name": "LayoutModel",
            "_view_count": null,
            "_view_module": "@jupyter-widgets/base",
            "_view_module_version": "1.2.0",
            "_view_name": "LayoutView",
            "align_content": null,
            "align_items": null,
            "align_self": null,
            "border": null,
            "bottom": null,
            "display": null,
            "flex": null,
            "flex_flow": null,
            "grid_area": null,
            "grid_auto_columns": null,
            "grid_auto_flow": null,
            "grid_auto_rows": null,
            "grid_column": null,
            "grid_gap": null,
            "grid_row": null,
            "grid_template_areas": null,
            "grid_template_columns": null,
            "grid_template_rows": null,
            "height": null,
            "justify_content": null,
            "justify_items": null,
            "left": null,
            "margin": null,
            "max_height": null,
            "max_width": null,
            "min_height": null,
            "min_width": null,
            "object_fit": null,
            "object_position": null,
            "order": null,
            "overflow": null,
            "overflow_x": null,
            "overflow_y": null,
            "padding": null,
            "right": null,
            "top": null,
            "visibility": null,
            "width": null
          }
        },
        "7ed875610d734931ba378ee85d93f216": {
          "model_module": "@jupyter-widgets/controls",
          "model_module_version": "1.5.0",
          "model_name": "DescriptionStyleModel",
          "state": {
            "_model_module": "@jupyter-widgets/controls",
            "_model_module_version": "1.5.0",
            "_model_name": "DescriptionStyleModel",
            "_view_count": null,
            "_view_module": "@jupyter-widgets/base",
            "_view_module_version": "1.2.0",
            "_view_name": "StyleView",
            "description_width": ""
          }
        },
        "cd67398579d94a0fab246b1ffaa3101e": {
          "model_module": "@jupyter-widgets/base",
          "model_module_version": "1.2.0",
          "model_name": "LayoutModel",
          "state": {
            "_model_module": "@jupyter-widgets/base",
            "_model_module_version": "1.2.0",
            "_model_name": "LayoutModel",
            "_view_count": null,
            "_view_module": "@jupyter-widgets/base",
            "_view_module_version": "1.2.0",
            "_view_name": "LayoutView",
            "align_content": null,
            "align_items": null,
            "align_self": null,
            "border": null,
            "bottom": null,
            "display": null,
            "flex": null,
            "flex_flow": null,
            "grid_area": null,
            "grid_auto_columns": null,
            "grid_auto_flow": null,
            "grid_auto_rows": null,
            "grid_column": null,
            "grid_gap": null,
            "grid_row": null,
            "grid_template_areas": null,
            "grid_template_columns": null,
            "grid_template_rows": null,
            "height": null,
            "justify_content": null,
            "justify_items": null,
            "left": null,
            "margin": null,
            "max_height": null,
            "max_width": null,
            "min_height": null,
            "min_width": null,
            "object_fit": null,
            "object_position": null,
            "order": null,
            "overflow": null,
            "overflow_x": null,
            "overflow_y": null,
            "padding": null,
            "right": null,
            "top": null,
            "visibility": null,
            "width": null
          }
        },
        "d1a9f0ef9d6745418b6239af3bd0ca13": {
          "model_module": "@jupyter-widgets/controls",
          "model_module_version": "1.5.0",
          "model_name": "DescriptionStyleModel",
          "state": {
            "_model_module": "@jupyter-widgets/controls",
            "_model_module_version": "1.5.0",
            "_model_name": "DescriptionStyleModel",
            "_view_count": null,
            "_view_module": "@jupyter-widgets/base",
            "_view_module_version": "1.2.0",
            "_view_name": "StyleView",
            "description_width": ""
          }
        },
        "da75e77abcc84d758ce7c6ff05ca2269": {
          "model_module": "@jupyter-widgets/controls",
          "model_module_version": "1.5.0",
          "model_name": "TextModel",
          "state": {
            "_dom_classes": [],
            "_model_module": "@jupyter-widgets/controls",
            "_model_module_version": "1.5.0",
            "_model_name": "TextModel",
            "_view_count": null,
            "_view_module": "@jupyter-widgets/controls",
            "_view_module_version": "1.5.0",
            "_view_name": "TextView",
            "continuous_update": true,
            "description": "Movie Title:",
            "description_tooltip": null,
            "disabled": false,
            "layout": "IPY_MODEL_0c3cf8e588d1479d897d03bcf61e49f8",
            "placeholder": "​",
            "style": "IPY_MODEL_7ed875610d734931ba378ee85d93f216",
            "value": "The Avengers 2012"
          }
        },
        "f50774a6699b4136bc00de123f737fee": {
          "model_module": "@jupyter-widgets/output",
          "model_module_version": "1.0.0",
          "model_name": "OutputModel",
          "state": {
            "_dom_classes": [],
            "_model_module": "@jupyter-widgets/output",
            "_model_module_version": "1.0.0",
            "_model_name": "OutputModel",
            "_view_count": null,
            "_view_module": "@jupyter-widgets/output",
            "_view_module_version": "1.0.0",
            "_view_name": "OutputView",
            "layout": "IPY_MODEL_cd67398579d94a0fab246b1ffaa3101e",
            "msg_id": "",
            "outputs": [
              {
                "data": {
                  "application/vnd.google.colaboratory.intrinsic+json": {
                    "summary": "{\n  \"name\": \"display(movie_name_input, recommendation_list)\",\n  \"rows\": 10,\n  \"fields\": [\n    {\n      \"column\": \"score\",\n      \"properties\": {\n        \"dtype\": \"number\",\n        \"std\": 2.979316772825247,\n        \"min\": 14.733631589184984,\n        \"max\": 25.52075471698113,\n        \"num_unique_values\": 10,\n        \"samples\": [\n          15.264750484923294,\n          18.560548885077186,\n          17.639345172031074\n        ],\n        \"semantic_type\": \"\",\n        \"description\": \"\"\n      }\n    },\n    {\n      \"column\": \"title\",\n      \"properties\": {\n        \"dtype\": \"string\",\n        \"num_unique_values\": 10,\n        \"samples\": [\n          \"X-Men: Days of Future Past (2014)\",\n          \"Avengers: Age of Ultron (2015)\",\n          \"Captain America: The First Avenger (2011)\"\n        ],\n        \"semantic_type\": \"\",\n        \"description\": \"\"\n      }\n    },\n    {\n      \"column\": \"genres\",\n      \"properties\": {\n        \"dtype\": \"string\",\n        \"num_unique_values\": 7,\n        \"samples\": [\n          \"Action|Adventure|Sci-Fi|IMAX\",\n          \"Action|Adventure|Sci-Fi\",\n          \"Action|Sci-Fi|Thriller\"\n        ],\n        \"semantic_type\": \"\",\n        \"description\": \"\"\n      }\n    }\n  ]\n}",
                    "type": "dataframe"
                  },
                  "text/html": "\n  <div id=\"df-ffc4a192-4103-407a-97fe-cde4151963ff\" class=\"colab-df-container\">\n    <div>\n<style scoped>\n    .dataframe tbody tr th:only-of-type {\n        vertical-align: middle;\n    }\n\n    .dataframe tbody tr th {\n        vertical-align: top;\n    }\n\n    .dataframe thead th {\n        text-align: right;\n    }\n</style>\n<table border=\"1\" class=\"dataframe\">\n  <thead>\n    <tr style=\"text-align: right;\">\n      <th></th>\n      <th>score</th>\n      <th>title</th>\n      <th>genres</th>\n    </tr>\n  </thead>\n  <tbody>\n    <tr>\n      <th>17067</th>\n      <td>25.520755</td>\n      <td>Avengers, The (2012)</td>\n      <td>Action|Adventure|Sci-Fi|IMAX</td>\n    </tr>\n    <tr>\n      <th>25058</th>\n      <td>18.560549</td>\n      <td>Avengers: Age of Ultron (2015)</td>\n      <td>Action|Adventure|Sci-Fi</td>\n    </tr>\n    <tr>\n      <th>25061</th>\n      <td>18.077201</td>\n      <td>Ant-Man (2015)</td>\n      <td>Action|Adventure|Sci-Fi</td>\n    </tr>\n    <tr>\n      <th>21348</th>\n      <td>17.959050</td>\n      <td>Captain America: The Winter Soldier (2014)</td>\n      <td>Action|Adventure|Sci-Fi|IMAX</td>\n    </tr>\n    <tr>\n      <th>16312</th>\n      <td>17.864528</td>\n      <td>Thor (2011)</td>\n      <td>Action|Adventure|Drama|Fantasy|IMAX</td>\n    </tr>\n    <tr>\n      <th>16725</th>\n      <td>17.639345</td>\n      <td>Captain America: The First Avenger (2011)</td>\n      <td>Action|Adventure|Sci-Fi|Thriller|War</td>\n    </tr>\n    <tr>\n      <th>19678</th>\n      <td>17.588628</td>\n      <td>Iron Man 3 (2013)</td>\n      <td>Action|Sci-Fi|Thriller|IMAX</td>\n    </tr>\n    <tr>\n      <th>25071</th>\n      <td>15.849732</td>\n      <td>Captain America: Civil War (2016)</td>\n      <td>Action|Sci-Fi|Thriller</td>\n    </tr>\n    <tr>\n      <th>21606</th>\n      <td>15.264750</td>\n      <td>X-Men: Days of Future Past (2014)</td>\n      <td>Action|Adventure|Sci-Fi</td>\n    </tr>\n    <tr>\n      <th>14628</th>\n      <td>14.733632</td>\n      <td>Iron Man 2 (2010)</td>\n      <td>Action|Adventure|Sci-Fi|Thriller|IMAX</td>\n    </tr>\n  </tbody>\n</table>\n</div>\n    <div class=\"colab-df-buttons\">\n\n  <div class=\"colab-df-container\">\n    <button class=\"colab-df-convert\" onclick=\"convertToInteractive('df-ffc4a192-4103-407a-97fe-cde4151963ff')\"\n            title=\"Convert this dataframe to an interactive table.\"\n            style=\"display:none;\">\n\n  <svg xmlns=\"http://www.w3.org/2000/svg\" height=\"24px\" viewBox=\"0 -960 960 960\">\n    <path d=\"M120-120v-720h720v720H120Zm60-500h600v-160H180v160Zm220 220h160v-160H400v160Zm0 220h160v-160H400v160ZM180-400h160v-160H180v160Zm440 0h160v-160H620v160ZM180-180h160v-160H180v160Zm440 0h160v-160H620v160Z\"/>\n  </svg>\n    </button>\n\n  <style>\n    .colab-df-container {\n      display:flex;\n      gap: 12px;\n    }\n\n    .colab-df-convert {\n      background-color: #E8F0FE;\n      border: none;\n      border-radius: 50%;\n      cursor: pointer;\n      display: none;\n      fill: #1967D2;\n      height: 32px;\n      padding: 0 0 0 0;\n      width: 32px;\n    }\n\n    .colab-df-convert:hover {\n      background-color: #E2EBFA;\n      box-shadow: 0px 1px 2px rgba(60, 64, 67, 0.3), 0px 1px 3px 1px rgba(60, 64, 67, 0.15);\n      fill: #174EA6;\n    }\n\n    .colab-df-buttons div {\n      margin-bottom: 4px;\n    }\n\n    [theme=dark] .colab-df-convert {\n      background-color: #3B4455;\n      fill: #D2E3FC;\n    }\n\n    [theme=dark] .colab-df-convert:hover {\n      background-color: #434B5C;\n      box-shadow: 0px 1px 3px 1px rgba(0, 0, 0, 0.15);\n      filter: drop-shadow(0px 1px 2px rgba(0, 0, 0, 0.3));\n      fill: #FFFFFF;\n    }\n  </style>\n\n    <script>\n      const buttonEl =\n        document.querySelector('#df-ffc4a192-4103-407a-97fe-cde4151963ff button.colab-df-convert');\n      buttonEl.style.display =\n        google.colab.kernel.accessAllowed ? 'block' : 'none';\n\n      async function convertToInteractive(key) {\n        const element = document.querySelector('#df-ffc4a192-4103-407a-97fe-cde4151963ff');\n        const dataTable =\n          await google.colab.kernel.invokeFunction('convertToInteractive',\n                                                    [key], {});\n        if (!dataTable) return;\n\n        const docLinkHtml = 'Like what you see? Visit the ' +\n          '<a target=\"_blank\" href=https://colab.research.google.com/notebooks/data_table.ipynb>data table notebook</a>'\n          + ' to learn more about interactive tables.';\n        element.innerHTML = '';\n        dataTable['output_type'] = 'display_data';\n        await google.colab.output.renderOutput(dataTable, element);\n        const docLink = document.createElement('div');\n        docLink.innerHTML = docLinkHtml;\n        element.appendChild(docLink);\n      }\n    </script>\n  </div>\n\n\n<div id=\"df-d4b1c0c0-5d3d-4361-ba33-dd4b2b4394eb\">\n  <button class=\"colab-df-quickchart\" onclick=\"quickchart('df-d4b1c0c0-5d3d-4361-ba33-dd4b2b4394eb')\"\n            title=\"Suggest charts\"\n            style=\"display:none;\">\n\n<svg xmlns=\"http://www.w3.org/2000/svg\" height=\"24px\"viewBox=\"0 0 24 24\"\n     width=\"24px\">\n    <g>\n        <path d=\"M19 3H5c-1.1 0-2 .9-2 2v14c0 1.1.9 2 2 2h14c1.1 0 2-.9 2-2V5c0-1.1-.9-2-2-2zM9 17H7v-7h2v7zm4 0h-2V7h2v10zm4 0h-2v-4h2v4z\"/>\n    </g>\n</svg>\n  </button>\n\n<style>\n  .colab-df-quickchart {\n      --bg-color: #E8F0FE;\n      --fill-color: #1967D2;\n      --hover-bg-color: #E2EBFA;\n      --hover-fill-color: #174EA6;\n      --disabled-fill-color: #AAA;\n      --disabled-bg-color: #DDD;\n  }\n\n  [theme=dark] .colab-df-quickchart {\n      --bg-color: #3B4455;\n      --fill-color: #D2E3FC;\n      --hover-bg-color: #434B5C;\n      --hover-fill-color: #FFFFFF;\n      --disabled-bg-color: #3B4455;\n      --disabled-fill-color: #666;\n  }\n\n  .colab-df-quickchart {\n    background-color: var(--bg-color);\n    border: none;\n    border-radius: 50%;\n    cursor: pointer;\n    display: none;\n    fill: var(--fill-color);\n    height: 32px;\n    padding: 0;\n    width: 32px;\n  }\n\n  .colab-df-quickchart:hover {\n    background-color: var(--hover-bg-color);\n    box-shadow: 0 1px 2px rgba(60, 64, 67, 0.3), 0 1px 3px 1px rgba(60, 64, 67, 0.15);\n    fill: var(--button-hover-fill-color);\n  }\n\n  .colab-df-quickchart-complete:disabled,\n  .colab-df-quickchart-complete:disabled:hover {\n    background-color: var(--disabled-bg-color);\n    fill: var(--disabled-fill-color);\n    box-shadow: none;\n  }\n\n  .colab-df-spinner {\n    border: 2px solid var(--fill-color);\n    border-color: transparent;\n    border-bottom-color: var(--fill-color);\n    animation:\n      spin 1s steps(1) infinite;\n  }\n\n  @keyframes spin {\n    0% {\n      border-color: transparent;\n      border-bottom-color: var(--fill-color);\n      border-left-color: var(--fill-color);\n    }\n    20% {\n      border-color: transparent;\n      border-left-color: var(--fill-color);\n      border-top-color: var(--fill-color);\n    }\n    30% {\n      border-color: transparent;\n      border-left-color: var(--fill-color);\n      border-top-color: var(--fill-color);\n      border-right-color: var(--fill-color);\n    }\n    40% {\n      border-color: transparent;\n      border-right-color: var(--fill-color);\n      border-top-color: var(--fill-color);\n    }\n    60% {\n      border-color: transparent;\n      border-right-color: var(--fill-color);\n    }\n    80% {\n      border-color: transparent;\n      border-right-color: var(--fill-color);\n      border-bottom-color: var(--fill-color);\n    }\n    90% {\n      border-color: transparent;\n      border-bottom-color: var(--fill-color);\n    }\n  }\n</style>\n\n  <script>\n    async function quickchart(key) {\n      const quickchartButtonEl =\n        document.querySelector('#' + key + ' button');\n      quickchartButtonEl.disabled = true;  // To prevent multiple clicks.\n      quickchartButtonEl.classList.add('colab-df-spinner');\n      try {\n        const charts = await google.colab.kernel.invokeFunction(\n            'suggestCharts', [key], {});\n      } catch (error) {\n        console.error('Error during call to suggestCharts:', error);\n      }\n      quickchartButtonEl.classList.remove('colab-df-spinner');\n      quickchartButtonEl.classList.add('colab-df-quickchart-complete');\n    }\n    (() => {\n      let quickchartButtonEl =\n        document.querySelector('#df-d4b1c0c0-5d3d-4361-ba33-dd4b2b4394eb button');\n      quickchartButtonEl.style.display =\n        google.colab.kernel.accessAllowed ? 'block' : 'none';\n    })();\n  </script>\n</div>\n\n    </div>\n  </div>\n",
                  "text/plain": "           score                                       title  \\\n17067  25.520755                        Avengers, The (2012)   \n25058  18.560549              Avengers: Age of Ultron (2015)   \n25061  18.077201                              Ant-Man (2015)   \n21348  17.959050  Captain America: The Winter Soldier (2014)   \n16312  17.864528                                 Thor (2011)   \n16725  17.639345   Captain America: The First Avenger (2011)   \n19678  17.588628                           Iron Man 3 (2013)   \n25071  15.849732           Captain America: Civil War (2016)   \n21606  15.264750           X-Men: Days of Future Past (2014)   \n14628  14.733632                           Iron Man 2 (2010)   \n\n                                      genres  \n17067           Action|Adventure|Sci-Fi|IMAX  \n25058                Action|Adventure|Sci-Fi  \n25061                Action|Adventure|Sci-Fi  \n21348           Action|Adventure|Sci-Fi|IMAX  \n16312    Action|Adventure|Drama|Fantasy|IMAX  \n16725   Action|Adventure|Sci-Fi|Thriller|War  \n19678            Action|Sci-Fi|Thriller|IMAX  \n25071                 Action|Sci-Fi|Thriller  \n21606                Action|Adventure|Sci-Fi  \n14628  Action|Adventure|Sci-Fi|Thriller|IMAX  "
                },
                "metadata": {},
                "output_type": "display_data"
              }
            ]
          }
        },
        "f8f9ec0bc5ce49d0a65815ba74ca5b7f": {
          "model_module": "@jupyter-widgets/controls",
          "model_module_version": "1.5.0",
          "model_name": "TextModel",
          "state": {
            "_dom_classes": [],
            "_model_module": "@jupyter-widgets/controls",
            "_model_module_version": "1.5.0",
            "_model_name": "TextModel",
            "_view_count": null,
            "_view_module": "@jupyter-widgets/controls",
            "_view_module_version": "1.5.0",
            "_view_name": "TextView",
            "continuous_update": true,
            "description": "Movie Title:",
            "description_tooltip": null,
            "disabled": false,
            "layout": "IPY_MODEL_0b60e654bfda4dc9a3c22e80c895a7fa",
            "placeholder": "​",
            "style": "IPY_MODEL_d1a9f0ef9d6745418b6239af3bd0ca13",
            "value": "The Avengers"
          }
        },
        "fd42d8b74cef4716a657d1aa8b8c58b6": {
          "model_module": "@jupyter-widgets/output",
          "model_module_version": "1.0.0",
          "model_name": "OutputModel",
          "state": {
            "_dom_classes": [],
            "_model_module": "@jupyter-widgets/output",
            "_model_module_version": "1.0.0",
            "_model_name": "OutputModel",
            "_view_count": null,
            "_view_module": "@jupyter-widgets/output",
            "_view_module_version": "1.0.0",
            "_view_name": "OutputView",
            "layout": "IPY_MODEL_5ce4137056c84adb8782c8a4be9c65bf",
            "msg_id": "",
            "outputs": [
              {
                "data": {
                  "application/vnd.google.colaboratory.intrinsic+json": {
                    "summary": "{\n  \"name\": \"display(movie_input, movie_list)\",\n  \"rows\": 5,\n  \"fields\": [\n    {\n      \"column\": \"movieId\",\n      \"properties\": {\n        \"dtype\": \"number\",\n        \"std\": 69603,\n        \"min\": 2153,\n        \"max\": 170297,\n        \"num_unique_values\": 5,\n        \"samples\": [\n          89745,\n          170297,\n          2153\n        ],\n        \"semantic_type\": \"\",\n        \"description\": \"\"\n      }\n    },\n    {\n      \"column\": \"title\",\n      \"properties\": {\n        \"dtype\": \"string\",\n        \"num_unique_values\": 5,\n        \"samples\": [\n          \"Avengers, The (2012)\",\n          \"Ultimate Avengers 2 (2006)\",\n          \"Avengers, The (1998)\"\n        ],\n        \"semantic_type\": \"\",\n        \"description\": \"\"\n      }\n    },\n    {\n      \"column\": \"genres\",\n      \"properties\": {\n        \"dtype\": \"string\",\n        \"num_unique_values\": 5,\n        \"samples\": [\n          \"Action|Adventure|Sci-Fi|IMAX\",\n          \"Action|Animation|Sci-Fi\",\n          \"Action|Adventure\"\n        ],\n        \"semantic_type\": \"\",\n        \"description\": \"\"\n      }\n    },\n    {\n      \"column\": \"clean_title\",\n      \"properties\": {\n        \"dtype\": \"string\",\n        \"num_unique_values\": 5,\n        \"samples\": [\n          \"Avengers The 2012\",\n          \"Ultimate Avengers 2 2006\",\n          \"Avengers The 1998\"\n        ],\n        \"semantic_type\": \"\",\n        \"description\": \"\"\n      }\n    }\n  ]\n}",
                    "type": "dataframe"
                  },
                  "text/html": "\n  <div id=\"df-ab56d94a-dd84-472d-aa4b-c06a3fcafad1\" class=\"colab-df-container\">\n    <div>\n<style scoped>\n    .dataframe tbody tr th:only-of-type {\n        vertical-align: middle;\n    }\n\n    .dataframe tbody tr th {\n        vertical-align: top;\n    }\n\n    .dataframe thead th {\n        text-align: right;\n    }\n</style>\n<table border=\"1\" class=\"dataframe\">\n  <thead>\n    <tr style=\"text-align: right;\">\n      <th></th>\n      <th>movieId</th>\n      <th>title</th>\n      <th>genres</th>\n      <th>clean_title</th>\n    </tr>\n  </thead>\n  <tbody>\n    <tr>\n      <th>34536</th>\n      <td>145676</td>\n      <td>3 Avengers (1964)</td>\n      <td>(no genres listed)</td>\n      <td>3 Avengers 1964</td>\n    </tr>\n    <tr>\n      <th>17067</th>\n      <td>89745</td>\n      <td>Avengers, The (2012)</td>\n      <td>Action|Adventure|Sci-Fi|IMAX</td>\n      <td>Avengers The 2012</td>\n    </tr>\n    <tr>\n      <th>2063</th>\n      <td>2153</td>\n      <td>Avengers, The (1998)</td>\n      <td>Action|Adventure</td>\n      <td>Avengers The 1998</td>\n    </tr>\n    <tr>\n      <th>40636</th>\n      <td>159920</td>\n      <td>Shaolin Avengers (1994)</td>\n      <td>Action</td>\n      <td>Shaolin Avengers 1994</td>\n    </tr>\n    <tr>\n      <th>45394</th>\n      <td>170297</td>\n      <td>Ultimate Avengers 2 (2006)</td>\n      <td>Action|Animation|Sci-Fi</td>\n      <td>Ultimate Avengers 2 2006</td>\n    </tr>\n  </tbody>\n</table>\n</div>\n    <div class=\"colab-df-buttons\">\n\n  <div class=\"colab-df-container\">\n    <button class=\"colab-df-convert\" onclick=\"convertToInteractive('df-ab56d94a-dd84-472d-aa4b-c06a3fcafad1')\"\n            title=\"Convert this dataframe to an interactive table.\"\n            style=\"display:none;\">\n\n  <svg xmlns=\"http://www.w3.org/2000/svg\" height=\"24px\" viewBox=\"0 -960 960 960\">\n    <path d=\"M120-120v-720h720v720H120Zm60-500h600v-160H180v160Zm220 220h160v-160H400v160Zm0 220h160v-160H400v160ZM180-400h160v-160H180v160Zm440 0h160v-160H620v160ZM180-180h160v-160H180v160Zm440 0h160v-160H620v160Z\"/>\n  </svg>\n    </button>\n\n  <style>\n    .colab-df-container {\n      display:flex;\n      gap: 12px;\n    }\n\n    .colab-df-convert {\n      background-color: #E8F0FE;\n      border: none;\n      border-radius: 50%;\n      cursor: pointer;\n      display: none;\n      fill: #1967D2;\n      height: 32px;\n      padding: 0 0 0 0;\n      width: 32px;\n    }\n\n    .colab-df-convert:hover {\n      background-color: #E2EBFA;\n      box-shadow: 0px 1px 2px rgba(60, 64, 67, 0.3), 0px 1px 3px 1px rgba(60, 64, 67, 0.15);\n      fill: #174EA6;\n    }\n\n    .colab-df-buttons div {\n      margin-bottom: 4px;\n    }\n\n    [theme=dark] .colab-df-convert {\n      background-color: #3B4455;\n      fill: #D2E3FC;\n    }\n\n    [theme=dark] .colab-df-convert:hover {\n      background-color: #434B5C;\n      box-shadow: 0px 1px 3px 1px rgba(0, 0, 0, 0.15);\n      filter: drop-shadow(0px 1px 2px rgba(0, 0, 0, 0.3));\n      fill: #FFFFFF;\n    }\n  </style>\n\n    <script>\n      const buttonEl =\n        document.querySelector('#df-ab56d94a-dd84-472d-aa4b-c06a3fcafad1 button.colab-df-convert');\n      buttonEl.style.display =\n        google.colab.kernel.accessAllowed ? 'block' : 'none';\n\n      async function convertToInteractive(key) {\n        const element = document.querySelector('#df-ab56d94a-dd84-472d-aa4b-c06a3fcafad1');\n        const dataTable =\n          await google.colab.kernel.invokeFunction('convertToInteractive',\n                                                    [key], {});\n        if (!dataTable) return;\n\n        const docLinkHtml = 'Like what you see? Visit the ' +\n          '<a target=\"_blank\" href=https://colab.research.google.com/notebooks/data_table.ipynb>data table notebook</a>'\n          + ' to learn more about interactive tables.';\n        element.innerHTML = '';\n        dataTable['output_type'] = 'display_data';\n        await google.colab.output.renderOutput(dataTable, element);\n        const docLink = document.createElement('div');\n        docLink.innerHTML = docLinkHtml;\n        element.appendChild(docLink);\n      }\n    </script>\n  </div>\n\n\n<div id=\"df-39b3de46-0f26-4962-9f16-30fbb8044f16\">\n  <button class=\"colab-df-quickchart\" onclick=\"quickchart('df-39b3de46-0f26-4962-9f16-30fbb8044f16')\"\n            title=\"Suggest charts\"\n            style=\"display:none;\">\n\n<svg xmlns=\"http://www.w3.org/2000/svg\" height=\"24px\"viewBox=\"0 0 24 24\"\n     width=\"24px\">\n    <g>\n        <path d=\"M19 3H5c-1.1 0-2 .9-2 2v14c0 1.1.9 2 2 2h14c1.1 0 2-.9 2-2V5c0-1.1-.9-2-2-2zM9 17H7v-7h2v7zm4 0h-2V7h2v10zm4 0h-2v-4h2v4z\"/>\n    </g>\n</svg>\n  </button>\n\n<style>\n  .colab-df-quickchart {\n      --bg-color: #E8F0FE;\n      --fill-color: #1967D2;\n      --hover-bg-color: #E2EBFA;\n      --hover-fill-color: #174EA6;\n      --disabled-fill-color: #AAA;\n      --disabled-bg-color: #DDD;\n  }\n\n  [theme=dark] .colab-df-quickchart {\n      --bg-color: #3B4455;\n      --fill-color: #D2E3FC;\n      --hover-bg-color: #434B5C;\n      --hover-fill-color: #FFFFFF;\n      --disabled-bg-color: #3B4455;\n      --disabled-fill-color: #666;\n  }\n\n  .colab-df-quickchart {\n    background-color: var(--bg-color);\n    border: none;\n    border-radius: 50%;\n    cursor: pointer;\n    display: none;\n    fill: var(--fill-color);\n    height: 32px;\n    padding: 0;\n    width: 32px;\n  }\n\n  .colab-df-quickchart:hover {\n    background-color: var(--hover-bg-color);\n    box-shadow: 0 1px 2px rgba(60, 64, 67, 0.3), 0 1px 3px 1px rgba(60, 64, 67, 0.15);\n    fill: var(--button-hover-fill-color);\n  }\n\n  .colab-df-quickchart-complete:disabled,\n  .colab-df-quickchart-complete:disabled:hover {\n    background-color: var(--disabled-bg-color);\n    fill: var(--disabled-fill-color);\n    box-shadow: none;\n  }\n\n  .colab-df-spinner {\n    border: 2px solid var(--fill-color);\n    border-color: transparent;\n    border-bottom-color: var(--fill-color);\n    animation:\n      spin 1s steps(1) infinite;\n  }\n\n  @keyframes spin {\n    0% {\n      border-color: transparent;\n      border-bottom-color: var(--fill-color);\n      border-left-color: var(--fill-color);\n    }\n    20% {\n      border-color: transparent;\n      border-left-color: var(--fill-color);\n      border-top-color: var(--fill-color);\n    }\n    30% {\n      border-color: transparent;\n      border-left-color: var(--fill-color);\n      border-top-color: var(--fill-color);\n      border-right-color: var(--fill-color);\n    }\n    40% {\n      border-color: transparent;\n      border-right-color: var(--fill-color);\n      border-top-color: var(--fill-color);\n    }\n    60% {\n      border-color: transparent;\n      border-right-color: var(--fill-color);\n    }\n    80% {\n      border-color: transparent;\n      border-right-color: var(--fill-color);\n      border-bottom-color: var(--fill-color);\n    }\n    90% {\n      border-color: transparent;\n      border-bottom-color: var(--fill-color);\n    }\n  }\n</style>\n\n  <script>\n    async function quickchart(key) {\n      const quickchartButtonEl =\n        document.querySelector('#' + key + ' button');\n      quickchartButtonEl.disabled = true;  // To prevent multiple clicks.\n      quickchartButtonEl.classList.add('colab-df-spinner');\n      try {\n        const charts = await google.colab.kernel.invokeFunction(\n            'suggestCharts', [key], {});\n      } catch (error) {\n        console.error('Error during call to suggestCharts:', error);\n      }\n      quickchartButtonEl.classList.remove('colab-df-spinner');\n      quickchartButtonEl.classList.add('colab-df-quickchart-complete');\n    }\n    (() => {\n      let quickchartButtonEl =\n        document.querySelector('#df-39b3de46-0f26-4962-9f16-30fbb8044f16 button');\n      quickchartButtonEl.style.display =\n        google.colab.kernel.accessAllowed ? 'block' : 'none';\n    })();\n  </script>\n</div>\n\n    </div>\n  </div>\n",
                  "text/plain": "       movieId                       title                        genres  \\\n34536   145676           3 Avengers (1964)            (no genres listed)   \n17067    89745        Avengers, The (2012)  Action|Adventure|Sci-Fi|IMAX   \n2063      2153        Avengers, The (1998)              Action|Adventure   \n40636   159920     Shaolin Avengers (1994)                        Action   \n45394   170297  Ultimate Avengers 2 (2006)       Action|Animation|Sci-Fi   \n\n                    clean_title  \n34536           3 Avengers 1964  \n17067         Avengers The 2012  \n2063          Avengers The 1998  \n40636     Shaolin Avengers 1994  \n45394  Ultimate Avengers 2 2006  "
                },
                "metadata": {},
                "output_type": "display_data"
              }
            ]
          }
        }
      }
    }
  },
  "nbformat": 4,
  "nbformat_minor": 0
}
